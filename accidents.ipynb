{
 "cells": [
  {
   "cell_type": "markdown",
   "id": "81caa17c-90b3-4b2f-99db-fcc346784b15",
   "metadata": {},
   "source": [
    "# import extensions"
   ]
  },
  {
   "cell_type": "code",
   "execution_count": 1,
   "id": "b7794739-a725-41d1-b439-37bd4480c638",
   "metadata": {},
   "outputs": [],
   "source": [
    "import pandas as pd\n",
    "import numpy as np"
   ]
  },
  {
   "cell_type": "markdown",
   "id": "fc40250e-d3e5-4893-b23f-16ff5ea60f02",
   "metadata": {},
   "source": [
    "# load the file"
   ]
  },
  {
   "cell_type": "code",
   "execution_count": null,
   "id": "27d6df76-ea81-4742-b220-dcfec597a5f9",
   "metadata": {},
   "outputs": [],
   "source": [
    "df = pd.read_csv(\"C:/Users/user/Downloads/AviationData.csv/AviationData.csv\", encoding='cp1252')\n",
    "df"
   ]
  },
  {
   "cell_type": "markdown",
   "id": "8c1ed368-16dd-4b5f-83d0-93f9f0f39fee",
   "metadata": {},
   "source": [
    "# drop columns with missing values"
   ]
  },
  {
   "cell_type": "code",
   "execution_count": null,
   "id": "63d61268-79bb-4686-b275-d6856fb4a3b7",
   "metadata": {},
   "outputs": [],
   "source": [
    "# 1. Drop columns with more than 50% missing values\n",
    "missing_threshold = 0.5\n",
    "missing_percentages = df.isnull().mean()\n",
    "columns_to_drop = missing_percentages[missing_percentages > missing_threshold].index\n",
    "df = df.drop(columns=columns_to_drop)\n",
    "\n",
    "print(\"Columns after dropping >50% missing values:\", df.columns.tolist())"
   ]
  },
  {
   "cell_type": "code",
   "execution_count": null,
   "id": "c7a62e18-52ea-4a41-b7f0-df0bcb78e56f",
   "metadata": {},
   "outputs": [],
   "source": [
    "# Step 1: Inspect the data\n",
    "print(\"Initial dataset shape:\", df.shape)\n",
    "print(\"Columns with missing values:\\n\", df.isnull().sum())"
   ]
  },
  {
   "cell_type": "markdown",
   "id": "ad0e1abc-4015-428e-ad69-1a152d7021ab",
   "metadata": {},
   "source": [
    "# drop column with irrevelant columns"
   ]
  },
  {
   "cell_type": "code",
   "execution_count": null,
   "id": "382ed95e-1c2c-4488-b85e-db64373a4335",
   "metadata": {},
   "outputs": [],
   "source": [
    "# Drop irrelevant columns\n",
    "# Assuming some columns are irrelevant based on their lack of meaningful data\n",
    "columns_to_drop = [\n",
    "    'Airport.Name', 'Latitude', 'Longitude', \n",
    "    'Publication.Date','Air.carrier','FAR.Description'\n",
    "]\n",
    "df = df.drop(columns=columns_to_drop, errors='ignore')"
   ]
  },
  {
   "cell_type": "code",
   "execution_count": null,
   "id": "8b8b6da4-f811-497d-937f-a675f9391ce3",
   "metadata": {},
   "outputs": [],
   "source": [
    "df"
   ]
  },
  {
   "cell_type": "markdown",
   "id": "57710034-695c-4419-9c84-823c83cb6987",
   "metadata": {},
   "source": [
    "# handle missing values"
   ]
  },
  {
   "cell_type": "code",
   "execution_count": null,
   "id": "5346c7ac-e4c4-4ae3-9c7e-d01ebdce905b",
   "metadata": {},
   "outputs": [],
   "source": [
    "# Step 3: Handle missing values\n",
    "# Fill missing numerical values with mean/median\n",
    "numerical_cols = df.select_dtypes(include=['float64', 'int64']).columns\n",
    "df[numerical_cols] = df[numerical_cols].fillna(df[numerical_cols].median())\n",
    "df"
   ]
  },
  {
   "cell_type": "markdown",
   "id": "46365fb2-e1f3-4775-95fb-0aad060924d3",
   "metadata": {},
   "source": [
    "#  fill categorical columns "
   ]
  },
  {
   "cell_type": "code",
   "execution_count": null,
   "id": "757b461d-1a47-49bf-900f-2d8d278bc8a5",
   "metadata": {},
   "outputs": [],
   "source": [
    "# Fill missing categorical values with the mode\n",
    "categorical_cols = df.select_dtypes(include=['object']).columns\n",
    "for col in categorical_cols:\n",
    "    df[col] = df[col].fillna(df[col].mode()[0])\n",
    "df"
   ]
  },
  {
   "cell_type": "code",
   "execution_count": null,
   "id": "69bd5f40-a5f0-4c66-9226-36b8b3215c30",
   "metadata": {},
   "outputs": [],
   "source": [
    "print(\"Initial dataset shape:\", df.shape)\n",
    "print(\"Columns with missing values:\\n\", df.isnull().sum())"
   ]
  },
  {
   "cell_type": "markdown",
   "id": "fb17dc10-462e-48ca-a01a-1a9d1701a86a",
   "metadata": {},
   "source": [
    "# fill numerical columns and unknowns"
   ]
  },
  {
   "cell_type": "code",
   "execution_count": null,
   "id": "caf319cc-a02a-4007-a16a-32b09cfa74ca",
   "metadata": {},
   "outputs": [],
   "source": [
    "# Location - Missing values replaced with 'Unknown Location'\n",
    "df['Location'] = df['Location'].fillna('Unknown Location')\n",
    "\n",
    "# Country - Missing values replaced with 'Unknown Country'\n",
    "df['Country'] = df['Country'].fillna('United States')\n",
    "\n",
    "# Airport.Code - Replace with 'Unknown Airport' since it's a specific identifier\n",
    "df['Airport.Code'] = df['Airport.Code'].fillna('NONE')\n",
    "\n",
    "# Injury.Severity - Replace with 'Unknown Severity' for missing cases\n",
    "df['Injury.Severity'] = df['Injury.Severity'].fillna('Unknown Severity')\n",
    "\n",
    "# Aircraft.Damage - Replace with 'Unknown Damage'\n",
    "df['Aircraft.damage'] = df['Aircraft.damage'].fillna('Unknown Damage')\n",
    "\n",
    "# Aircraft.Category - Replace with 'Unknown Category'\n",
    "df['Aircraft.Category'] = df['Aircraft.Category'].fillna('Unknown Category')\n",
    "\n",
    "# Registration.Number - Replace with 'Unknown Registration'\n",
    "df['Registration.Number'] = df['Registration.Number'].fillna('Unknown Registration')\n",
    "\n",
    "# Make and Model - Replace missing values with 'Unknown Make/Model'\n",
    "df['Make'] = df['Make'].fillna('Unknown Make')\n",
    "df['Model'] = df['Model'].fillna('Unknown Model')\n",
    "\n",
    "# Amateur.Built - Replace missing values with the mode (e.g., 'No')\n",
    "df['Amateur.Built'] = df['Amateur.Built'].fillna(df['Amateur.Built'].mode()[0])\n",
    "\n",
    "# Engine.Type - Replace with 'Unknown Engine Type'\n",
    "df['Engine.Type'] = df['Engine.Type'].fillna('Unknown Engine Type')\n",
    "\n",
    "# Schedule - Replace with 'Unknown Schedule'\n",
    "df['Schedule'] = df['Schedule'].fillna('Unknown Schedule')\n",
    "\n",
    "# Purpose.Of.Flight - Replace with 'Unknown Purpose'\n",
    "df['Purpose.of.flight'] = df['Purpose.of.flight'].fillna('Unknown Purpose')\n",
    "# Weather.Condition - Replace with 'Unknown Weather Condition'\n",
    "df['Weather.Condition'] = df['Weather.Condition'].fillna('Unknown Weather Condition')\n",
    "\n",
    "# Broad.Phase.Of.Flight - Replace with 'Unknown Phase'\n",
    "df['Broad.phase.of.flight'] = df['Broad.phase.of.flight'].fillna('Unknown Phase')\n",
    "\n",
    "# Report.Status - Replace with 'Unknown Status'\n",
    "df['Report.Status'] = df['Report.Status'].fillna('Unknown Status')\n",
    "df"
   ]
  },
  {
   "cell_type": "markdown",
   "id": "e013d978-ecc5-41f3-9232-68e81c820933",
   "metadata": {},
   "source": [
    "# rename columns for consistency"
   ]
  },
  {
   "cell_type": "code",
   "execution_count": null,
   "id": "f631e051-4f15-49f2-a0ea-d622a0426078",
   "metadata": {},
   "outputs": [],
   "source": [
    "# Step 4: Rename columns for consistency\n",
    "df.columns = df.columns.str.replace('.', ' ').str.strip().str.title()\n",
    "df"
   ]
  },
  {
   "cell_type": "markdown",
   "id": "ce7367d8-ba5d-4eaa-b033-1dd02500ad75",
   "metadata": {},
   "source": [
    "# remove duplicates"
   ]
  },
  {
   "cell_type": "code",
   "execution_count": null,
   "id": "44a12a0a-9807-401b-9a3c-4fa45289a7f7",
   "metadata": {},
   "outputs": [],
   "source": [
    "# Step 5: Remove duplicate rows if any\n",
    "df = df.drop_duplicates()\n",
    "df"
   ]
  },
  {
   "cell_type": "markdown",
   "id": "455b5e68-f9d2-46a2-b638-1189bc1beb7b",
   "metadata": {},
   "source": [
    "# create a severity index"
   ]
  },
  {
   "cell_type": "code",
   "execution_count": null,
   "id": "6e6cdad9-ebdd-4486-9124-9b37cf379eea",
   "metadata": {},
   "outputs": [],
   "source": [
    "# Create a new 'Severity Index' to aggregate injury severity\n",
    "df['Severity Index'] = df['Total Fatal Injuries'] * 3 + df['Total Serious Injuries'] * 2 + df['Total Minor Injuries']\n",
    "df"
   ]
  },
  {
   "cell_type": "markdown",
   "id": "ce3a215f-ad4d-41f9-ad7e-d586f66bc851",
   "metadata": {},
   "source": [
    "# groupby the dates into one"
   ]
  },
  {
   "cell_type": "code",
   "execution_count": null,
   "id": "148820a1-54f7-4ad5-998d-f4c830bad806",
   "metadata": {},
   "outputs": [],
   "source": [
    "# Convert 'Event Date' to datetime format\n",
    "df['Event Date'] = pd.to_datetime(df['Event Date'], errors='coerce')\n",
    "\n",
    "# Extract the year from 'Event Date'\n",
    "df['Year'] = df['Event Date'].dt.year\n",
    "\n",
    "# Group by 'Year' and count the number of unique 'Accident Number'\n",
    "accident_counts = df.groupby('Year')['Accident Number'].nunique().reset_index()\n",
    "accident_counts.columns = ['Year', 'Yearly_Accident_Counts']\n",
    "\n",
    "# Merge the accident counts back to the original DataFrame\n",
    "df = df.merge(accident_counts, on='Year', how='left')\n",
    "\n",
    "# Display the updated DataFrame\n",
    "print(df.head())\n"
   ]
  },
  {
   "cell_type": "code",
   "execution_count": null,
   "id": "258afeaf-ead3-4f05-9251-533776bc01b4",
   "metadata": {},
   "outputs": [],
   "source": [
    "\n",
    "# Get the current year\n",
    "current_year = pd.to_datetime('today').year\n",
    "\n",
    "# Filter the data to the last 20 years\n",
    "df_last_20_years = df[df['Year'] >= (current_year - 20)]\n",
    "\n",
    "# Optional: Save the filtered data to a new CSV file\n",
    "df_last_20_years.to_csv(\"filtered_last_20_years.csv\", index=False)\n",
    "\n",
    "# Display the filtered data\n",
    "print(df_last_20_years.head())"
   ]
  },
  {
   "cell_type": "code",
   "execution_count": null,
   "id": "2550eb1c-bf2a-441a-8932-54dcac2b9a57",
   "metadata": {},
   "outputs": [],
   "source": [
    "df"
   ]
  },
  {
   "cell_type": "markdown",
   "id": "215f7177-be91-46a6-b26f-0e2ba571a00a",
   "metadata": {},
   "source": [
    "# create a new column to check risk levels"
   ]
  },
  {
   "cell_type": "code",
   "execution_count": null,
   "id": "b7c77442-1760-418c-9514-23f6bb0fb2dd",
   "metadata": {},
   "outputs": [],
   "source": [
    "# Injury Severity Index\n",
    "df['Total Injuries'] = (\n",
    "    df['Total Fatal Injuries'] + \n",
    "    df['Total Serious Injuries'] + \n",
    "    df['Total Minor Injuries']\n",
    ")\n",
    "df['Risk Score'] = df['Total Injuries'] / (df['Total Injuries'] + df['Total Uninjured'] + 1)\n",
    "\n",
    "# Engineer Year column if not already present\n",
    "if 'Year' not in df.columns:\n",
    "    df['Year'] = pd.to_datetime(df['Event Date']).dt.year\n",
    "\n",
    "# Map injury severity to risk levels\n",
    "severity_mapping = {\n",
    "    'Fatal': 3,\n",
    "    'Serious': 2,\n",
    "    'Minor': 1,\n",
    "    'None': 0\n",
    "}\n",
    "df['Severity Level'] = df['Injury Severity'].map(severity_mapping)\n",
    "\n",
    "print(df[['Risk Score', 'Severity Level']].head())\n",
    "\n"
   ]
  },
  {
   "cell_type": "markdown",
   "id": "ec9f92d3-76ab-4a10-b987-563293be8120",
   "metadata": {},
   "source": [
    "# export the cleaned data"
   ]
  },
  {
   "cell_type": "code",
   "execution_count": null,
   "id": "178cb1d2-5ae8-4ea1-86f7-67c0cde82dcf",
   "metadata": {},
   "outputs": [],
   "source": [
    "# Step 6: Export the cleaned dataset\n",
    "new_file_path = 'C:/Users/user/Downloads/AviationData_clean.csv'\n",
    "df.to_csv(new_file_path, index=False)"
   ]
  },
  {
   "cell_type": "code",
   "execution_count": null,
   "id": "3cda7217-5a09-4716-8111-3af08277f4e9",
   "metadata": {},
   "outputs": [],
   "source": [
    "print(\"Cleaned dataset shape:\", df.shape)\n",
    "print(f\"Cleaned data saved to: {'C:/Users/user/Downloads/AviationData_new.csv'}\")"
   ]
  },
  {
   "cell_type": "code",
   "execution_count": null,
   "id": "56189a76-6cfb-4ca3-a66a-486e18e0a6cd",
   "metadata": {},
   "outputs": [],
   "source": []
  }
 ],
 "metadata": {
  "kernelspec": {
   "display_name": "Python 3 (ipykernel)",
   "language": "python",
   "name": "python3"
  },
  "language_info": {
   "codemirror_mode": {
    "name": "ipython",
    "version": 3
   },
   "file_extension": ".py",
   "mimetype": "text/x-python",
   "name": "python",
   "nbconvert_exporter": "python",
   "pygments_lexer": "ipython3",
   "version": "3.12.7"
  }
 },
 "nbformat": 4,
 "nbformat_minor": 5
}
